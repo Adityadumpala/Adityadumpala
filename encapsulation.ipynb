{
 "cells": [
  {
   "cell_type": "code",
   "execution_count": 1,
   "id": "0877e008",
   "metadata": {},
   "outputs": [],
   "source": [
    "class tyres:\n",
    "    def __init__(self,brand,size,Type):\n",
    "        self.brand=brand\n",
    "        self.size=size\n",
    "        self.Type=Type\n",
    "    def __str__(self):\n",
    "        return ('tyres: \\n \\tbrand', self.brand , '\\nsize'+ self.size , '\\ntype',self.Type)\n",
    "\n",
    "class engine:\n",
    "    def __init__(self,fueltype,capacity,noice):\n",
    "        self.fueltype=fueltype\n",
    "        self.capacity=capacity\n",
    "        self.noice=noice\n",
    "    def __str__(self):\n",
    "        return ('engine: \\n\\tfueltype',self.fueltype,'\\ncapacity',self.capacity,'\\nnoice',self.noice)\n",
    "    \n",
    "class bike:\n",
    "    def __init__(self,tyres,engine):\n",
    "        self.tyres=tyres\n",
    "        self.engine=engine\n",
    "        \n",
    "    def __str__(self):\n",
    "        return self.tyres, '\\n', self.engine"
   ]
  },
  {
   "cell_type": "code",
   "execution_count": 2,
   "id": "20b268dc",
   "metadata": {},
   "outputs": [],
   "source": [
    "t=tyres('CEAT','BIG','tubless')\n",
    "e=engine('petrol','bs6','False')\n",
    "b=bike(t,e)"
   ]
  },
  {
   "cell_type": "code",
   "execution_count": 3,
   "id": "e99ed06b",
   "metadata": {},
   "outputs": [
    {
     "data": {
      "text/plain": [
       "<__main__.bike at 0x24526c20be0>"
      ]
     },
     "execution_count": 3,
     "metadata": {},
     "output_type": "execute_result"
    }
   ],
   "source": [
    "b"
   ]
  },
  {
   "cell_type": "code",
   "execution_count": null,
   "id": "250078f2",
   "metadata": {},
   "outputs": [],
   "source": []
  }
 ],
 "metadata": {
  "kernelspec": {
   "display_name": "Python 3",
   "language": "python",
   "name": "python3"
  },
  "language_info": {
   "codemirror_mode": {
    "name": "ipython",
    "version": 3
   },
   "file_extension": ".py",
   "mimetype": "text/x-python",
   "name": "python",
   "nbconvert_exporter": "python",
   "pygments_lexer": "ipython3",
   "version": "3.8.8"
  }
 },
 "nbformat": 4,
 "nbformat_minor": 5
}
